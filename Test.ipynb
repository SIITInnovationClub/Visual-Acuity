{
 "cells": [
  {
   "cell_type": "code",
   "execution_count": 5,
   "metadata": {},
   "outputs": [
    {
     "name": "stdout",
     "output_type": "stream",
     "text": [
      "Reference Text: ['96824', '84846', '43242', '42633']\n",
      "Scoring Index: 3\n",
      "Scoring Index Value: 20\n",
      "Your score will be 20/20\n"
     ]
    },
    {
     "data": {
      "text/plain": [
       "20"
      ]
     },
     "execution_count": 5,
     "metadata": {},
     "output_type": "execute_result"
    }
   ],
   "source": [
    "def calculate_score(self, ref_text, correct_score, score_lines):\n",
    "        # Print the reference text for debugging\n",
    "        print(\"Reference Text:\", ref_text)\n",
    "\n",
    "        # Calculate the index for scoring\n",
    "        num_lines = len(ref_text)  # Number of lines in ref_text\n",
    "        if num_lines > 0:\n",
    "            scoring_index = min(len(score_lines) - 1, correct_score // (num_lines // len(score_lines)))\n",
    "        else:\n",
    "            scoring_index = 0\n",
    "        \n",
    "        # Handle case where the scoring index is out of range\n",
    "        result = score_lines[scoring_index]\n",
    "        \n",
    "        # Print results\n",
    "        print(\"Scoring Index:\", scoring_index)\n",
    "        print(\"Scoring Index Value:\", result)\n",
    "        print(f\"Your score will be 20/{result}\")\n",
    "\n",
    "        return result\n",
    "# Test the function\n",
    "ref_text = ['96824', '84846', '43242', '42633']\n",
    "correct_score = 5\n",
    "score_lines = [80,60,40,20]\n",
    "calculate_score(None, ref_text, correct_score, score_lines)"
   ]
  },
  {
   "cell_type": "code",
   "execution_count": null,
   "metadata": {},
   "outputs": [],
   "source": []
  }
 ],
 "metadata": {
  "kernelspec": {
   "display_name": "venv",
   "language": "python",
   "name": "python3"
  },
  "language_info": {
   "codemirror_mode": {
    "name": "ipython",
    "version": 3
   },
   "file_extension": ".py",
   "mimetype": "text/x-python",
   "name": "python",
   "nbconvert_exporter": "python",
   "pygments_lexer": "ipython3",
   "version": "3.12.4"
  }
 },
 "nbformat": 4,
 "nbformat_minor": 2
}
